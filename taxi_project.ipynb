{
 "cells": [
  {
   "cell_type": "markdown",
   "metadata": {},
   "source": [
    "# 택시 데이터를 활용한 수요 예측 모델\n",
    "## 현재목표\n",
    "택시데이터를 분류하는 모델 생각하기\n",
    "\n",
    "### 기준\n",
    "    -공간 기준: x,y_좌표 간격 = 0.001\n",
    "    -시간 기준: 5분 간격\n",
    "### todo\n",
    "지금 할일"
   ]
  },
  {
   "cell_type": "code",
   "execution_count": 2,
   "metadata": {},
   "outputs": [],
   "source": [
    "#라이브러리\n",
    "import pandas as pd\n",
    "import numpy as np\n",
    "import matplotlib.pyplot as plt\n",
    "import math\n",
    "import time\n",
    "from sklearn import datasets"
   ]
  },
  {
   "cell_type": "code",
   "execution_count": 5,
   "metadata": {},
   "outputs": [
    {
     "name": "stdout",
     "output_type": "stream",
     "text": [
      "원본 (59326905, 3)\n",
      "NAN 제거 (59326905, 3)\n"
     ]
    }
   ],
   "source": [
    "#예시 데이터 1개\n",
    "df = pd.read_csv(\"/Users/joyumin/PycharmProjects/datas/taxi.csv\", encoding=\"euc-kr\")\n",
    "print(\"원본\", df.shape)\n",
    "df = df.dropna(axis=0)\n",
    "print(\"NAN 제거\", df.shape)\n",
    "df.columns = df.columns.str.strip().str.lower().str.replace(' ', '_').str.replace('(', '_').str.replace(')', '')"
   ]
  },
  {
   "cell_type": "code",
   "execution_count": null,
   "metadata": {},
   "outputs": [],
   "source": [
    "df['승차시각'] = pd.to_datetime(df['승차시각'])\n",
    "# df = df.query(\"승차위치_시도 == '서울특별시'\")"
   ]
  },
  {
   "cell_type": "code",
   "execution_count": 16,
   "metadata": {},
   "outputs": [
    {
     "name": "stdout",
     "output_type": "stream",
     "text": [
      "<class 'pandas.core.frame.DataFrame'>\n",
      "Int64Index: 59326905 entries, 0 to 59326904\n",
      "Data columns (total 5 columns):\n",
      "승차시각          object\n",
      "승차위치_x좌표      float64\n",
      "승차위치_y좌표      float64\n",
      "time_label    int64\n",
      "loc_idx       int64\n",
      "dtypes: float64(2), int64(2), object(1)\n",
      "memory usage: 2.7+ GB\n"
     ]
    }
   ],
   "source": [
    "df.info()"
   ]
  },
  {
   "cell_type": "code",
   "execution_count": 7,
   "metadata": {},
   "outputs": [
    {
     "data": {
      "text/plain": [
       "1     28085669\n",
       "2     13073624\n",
       "3      6594312\n",
       "4      3676924\n",
       "5      2233220\n",
       "6      1446792\n",
       "7       990934\n",
       "8       710536\n",
       "9       524115\n",
       "10      394210\n",
       "11      304865\n",
       "12      243972\n",
       "13      194051\n",
       "14      155176\n",
       "15      128175\n",
       "16      107136\n",
       "17       87482\n",
       "18       71190\n",
       "19       60458\n",
       "20       50260\n",
       "21       42378\n",
       "22       32780\n",
       "23       27646\n",
       "24       20664\n",
       "25       16325\n",
       "26       12896\n",
       "27        9315\n",
       "28        7420\n",
       "29        5858\n",
       "30        3990\n",
       "31        2790\n",
       "33        2706\n",
       "32        1984\n",
       "34        1428\n",
       "35         910\n",
       "37         851\n",
       "36         684\n",
       "40         640\n",
       "38         494\n",
       "39         468\n",
       "42         462\n",
       "41         287\n",
       "44         264\n",
       "43         172\n",
       "48         144\n",
       "53         106\n",
       "50          50\n",
       "47          47\n",
       "45          45\n",
       "Name: count, dtype: int64"
      ]
     },
     "execution_count": 7,
     "metadata": {},
     "output_type": "execute_result"
    }
   ],
   "source": [
    "df['count'].value_counts()"
   ]
  },
  {
   "cell_type": "markdown",
   "metadata": {},
   "source": [
    "# 시간\n",
    "\n",
    "#### 5분단위로 타임 카테고리를 만듬\n",
    "#### 승차시각을 초로 환산해서 300(5분)초로 나눈값을 저장함"
   ]
  },
  {
   "cell_type": "code",
   "execution_count": 11,
   "metadata": {},
   "outputs": [],
   "source": [
    "df2 = df.filter([\"승차시각\", \"승차위치_x좌표\", \"승차위치_y좌표\", \"승차위치_시도\"])"
   ]
  },
  {
   "cell_type": "code",
   "execution_count": 12,
   "metadata": {},
   "outputs": [
    {
     "name": "stdout",
     "output_type": "stream",
     "text": [
      "<class 'pandas.core.frame.DataFrame'>\n",
      "Int64Index: 6482458 entries, 0 to 7099266\n",
      "Data columns (total 4 columns):\n",
      "승차시각        datetime64[ns]\n",
      "승차위치_x좌표    float64\n",
      "승차위치_y좌표    float64\n",
      "승차위치_시도     object\n",
      "dtypes: datetime64[ns](1), float64(2), object(1)\n",
      "memory usage: 247.3+ MB\n"
     ]
    }
   ],
   "source": [
    "# df2['승차_일'] = [d.date() for d in df2['승차시각']]\n",
    "# df2['승차_시간'] = [d.time() for d in df2['승차시각']]\n",
    "df2.info()"
   ]
  },
  {
   "cell_type": "code",
   "execution_count": 13,
   "metadata": {
    "collapsed": true
   },
   "outputs": [
    {
     "data": {
      "text/plain": [
       "승차시각\n",
       "2018-01-29 00:00:00    3767\n",
       "2018-01-29 00:05:00    3806\n",
       "2018-01-29 00:10:00    3611\n",
       "2018-01-29 00:15:00    3176\n",
       "2018-01-29 00:20:00    3150\n",
       "2018-01-29 00:25:00    2923\n",
       "2018-01-29 00:30:00    2886\n",
       "2018-01-29 00:35:00    2732\n",
       "2018-01-29 00:40:00    2562\n",
       "2018-01-29 00:45:00    2576\n",
       "2018-01-29 00:50:00    2486\n",
       "2018-01-29 00:55:00    2368\n",
       "2018-01-29 01:00:00    2380\n",
       "2018-01-29 01:05:00    2409\n",
       "2018-01-29 01:10:00    2231\n",
       "2018-01-29 01:15:00    2228\n",
       "2018-01-29 01:20:00    2025\n",
       "2018-01-29 01:25:00    2003\n",
       "2018-01-29 01:30:00    1933\n",
       "2018-01-29 01:35:00    1885\n",
       "2018-01-29 01:40:00    1860\n",
       "2018-01-29 01:45:00    1836\n",
       "2018-01-29 01:50:00    1730\n",
       "2018-01-29 01:55:00    1812\n",
       "2018-01-29 02:00:00    1862\n",
       "2018-01-29 02:05:00    1814\n",
       "2018-01-29 02:10:00    1771\n",
       "2018-01-29 02:15:00    1581\n",
       "2018-01-29 02:20:00    1501\n",
       "2018-01-29 02:25:00    1500\n",
       "                       ... \n",
       "2018-02-04 21:30:00    3285\n",
       "2018-02-04 21:35:00    3474\n",
       "2018-02-04 21:40:00    3451\n",
       "2018-02-04 21:45:00    3335\n",
       "2018-02-04 21:50:00    3325\n",
       "2018-02-04 21:55:00    3356\n",
       "2018-02-04 22:00:00    3497\n",
       "2018-02-04 22:05:00    3529\n",
       "2018-02-04 22:10:00    3289\n",
       "2018-02-04 22:15:00    3329\n",
       "2018-02-04 22:20:00    3188\n",
       "2018-02-04 22:25:00    3198\n",
       "2018-02-04 22:30:00    3159\n",
       "2018-02-04 22:35:00    3134\n",
       "2018-02-04 22:40:00    3014\n",
       "2018-02-04 22:45:00    3019\n",
       "2018-02-04 22:50:00    3094\n",
       "2018-02-04 22:55:00    3136\n",
       "2018-02-04 23:00:00    3230\n",
       "2018-02-04 23:05:00    3434\n",
       "2018-02-04 23:10:00    3218\n",
       "2018-02-04 23:15:00    3160\n",
       "2018-02-04 23:20:00    3121\n",
       "2018-02-04 23:25:00    3212\n",
       "2018-02-04 23:30:00    3127\n",
       "2018-02-04 23:35:00    3202\n",
       "2018-02-04 23:40:00    3245\n",
       "2018-02-04 23:45:00    3273\n",
       "2018-02-04 23:50:00    3439\n",
       "2018-02-04 23:55:00    3318\n",
       "Freq: 5T, Name: 승차시각, Length: 2016, dtype: int64"
      ]
     },
     "execution_count": 13,
     "metadata": {},
     "output_type": "execute_result"
    }
   ],
   "source": [
    "#5분 단위로 쪼갬 카운트\n",
    "hour_data = df2.groupby(pd.Grouper(key='승차시각',freq='5min'))['승차시각'].count()\n",
    "hour_data"
   ]
  },
  {
   "cell_type": "code",
   "execution_count": 5,
   "metadata": {
    "scrolled": true
   },
   "outputs": [
    {
     "data": {
      "text/html": [
       "<div>\n",
       "<style scoped>\n",
       "    .dataframe tbody tr th:only-of-type {\n",
       "        vertical-align: middle;\n",
       "    }\n",
       "\n",
       "    .dataframe tbody tr th {\n",
       "        vertical-align: top;\n",
       "    }\n",
       "\n",
       "    .dataframe thead th {\n",
       "        text-align: right;\n",
       "    }\n",
       "</style>\n",
       "<table border=\"1\" class=\"dataframe\">\n",
       "  <thead>\n",
       "    <tr style=\"text-align: right;\">\n",
       "      <th></th>\n",
       "      <th>승차시각</th>\n",
       "      <th>승차위치_x좌표</th>\n",
       "      <th>승차위치_y좌표</th>\n",
       "      <th>승차위치_시도</th>\n",
       "      <th>time_label</th>\n",
       "    </tr>\n",
       "  </thead>\n",
       "  <tbody>\n",
       "    <tr>\n",
       "      <th>0</th>\n",
       "      <td>2018-03-05 00:00:00</td>\n",
       "      <td>127.104445</td>\n",
       "      <td>37.484585</td>\n",
       "      <td>서울특별시</td>\n",
       "      <td>0</td>\n",
       "    </tr>\n",
       "    <tr>\n",
       "      <th>1</th>\n",
       "      <td>2018-03-05 00:00:00</td>\n",
       "      <td>127.115560</td>\n",
       "      <td>37.496255</td>\n",
       "      <td>서울특별시</td>\n",
       "      <td>0</td>\n",
       "    </tr>\n",
       "    <tr>\n",
       "      <th>2</th>\n",
       "      <td>2018-03-05 00:00:00</td>\n",
       "      <td>127.084957</td>\n",
       "      <td>37.537818</td>\n",
       "      <td>서울특별시</td>\n",
       "      <td>0</td>\n",
       "    </tr>\n",
       "    <tr>\n",
       "      <th>3</th>\n",
       "      <td>2018-03-05 00:00:01</td>\n",
       "      <td>127.057588</td>\n",
       "      <td>37.543923</td>\n",
       "      <td>서울특별시</td>\n",
       "      <td>0</td>\n",
       "    </tr>\n",
       "    <tr>\n",
       "      <th>4</th>\n",
       "      <td>2018-03-05 00:00:01</td>\n",
       "      <td>127.087842</td>\n",
       "      <td>37.557823</td>\n",
       "      <td>서울특별시</td>\n",
       "      <td>0</td>\n",
       "    </tr>\n",
       "  </tbody>\n",
       "</table>\n",
       "</div>"
      ],
      "text/plain": [
       "                 승차시각    승차위치_x좌표   승차위치_y좌표 승차위치_시도  time_label\n",
       "0 2018-03-05 00:00:00  127.104445  37.484585   서울특별시           0\n",
       "1 2018-03-05 00:00:00  127.115560  37.496255   서울특별시           0\n",
       "2 2018-03-05 00:00:00  127.084957  37.537818   서울특별시           0\n",
       "3 2018-03-05 00:00:01  127.057588  37.543923   서울특별시           0\n",
       "4 2018-03-05 00:00:01  127.087842  37.557823   서울특별시           0"
      ]
     },
     "execution_count": 5,
     "metadata": {},
     "output_type": "execute_result"
    }
   ],
   "source": [
    "#승차시각을 초로 환산해서 300초(5분)씩 나눔\n",
    "s = (df2.승차시각 - df2.승차시각.dt.floor('D')).dt.total_seconds() / 300\n",
    "# s = pd.to_numeric(s)\n",
    "s = s.astype(int)\n",
    "df2['time_label'] = s\n",
    "df2.head()"
   ]
  },
  {
   "cell_type": "markdown",
   "metadata": {},
   "source": [
    "# 공간\n",
    "##### 어림 잡은 값으로 나눠도 상관없을 거 같음\n",
    "### 0.0001은 대략 10미터 <br> 따라서 기준은 0.0025로 잡기로 함 (250m) <br> y = 0.0012 100미터 <br> y = 기준은 .003\n",
    "#### 서울시 기준\n",
    "----------\n",
    "\n",
    "동 - 강동구 - 강일동 : 37.545826 ,*127.183551* <br>\n",
    "서 - 강서구 - 공항동 : 37.555339, *126.764278* <br>\n",
    "남 - 서초구 - 내곡동 : *37.429010*, 127.065674 <br>\n",
    "북 - 도봉구 - 도봉1동 : *37.70107* 9, 127.019567 \n",
    "\n",
    "##### 이렇게 되면 낭비되는 공간이 많이 생기는데 그 부분에 대해서 생각해 봐야댐"
   ]
  },
  {
   "cell_type": "code",
   "execution_count": 6,
   "metadata": {},
   "outputs": [],
   "source": [
    "temp_df = df.filter([\"승차시각\", \"승차위치_x좌표\", \"승차위치_y좌표\", \"승차위치_시도\"])"
   ]
  },
  {
   "cell_type": "markdown",
   "metadata": {},
   "source": [
    "## 지도를 나누고 인덱스 구하기\n",
    "##### 기준이  0.001이기 떄문에 소수점 3자리까지 내림하고 계산\n",
    "(x 최대 - x 최소) / 0.0035 = 119 (x의 인덱스는 168까지 있음) <br>\n",
    "(y 최대 - y 최소) / 0.00227= 272 (Y의 인덱스는 118까지 있음)\n",
    "\n",
    "### 내 위치의 인덱스 구하기\n",
    "(x 내위치 - x 최소) / 0.001 = 내 위치 인덱스 (y도 같은 방법으로)\n",
    "\n",
    "### 카테리고리 컬럼 정하기\n",
    "----"
   ]
  },
  {
   "cell_type": "code",
   "execution_count": 7,
   "metadata": {},
   "outputs": [
    {
     "data": {
      "text/html": [
       "<div>\n",
       "<style scoped>\n",
       "    .dataframe tbody tr th:only-of-type {\n",
       "        vertical-align: middle;\n",
       "    }\n",
       "\n",
       "    .dataframe tbody tr th {\n",
       "        vertical-align: top;\n",
       "    }\n",
       "\n",
       "    .dataframe thead th {\n",
       "        text-align: right;\n",
       "    }\n",
       "</style>\n",
       "<table border=\"1\" class=\"dataframe\">\n",
       "  <thead>\n",
       "    <tr style=\"text-align: right;\">\n",
       "      <th></th>\n",
       "      <th>승차시각</th>\n",
       "      <th>승차위치_x좌표</th>\n",
       "      <th>승차위치_y좌표</th>\n",
       "      <th>승차위치_시도</th>\n",
       "      <th>time_label</th>\n",
       "      <th>loc_idx</th>\n",
       "    </tr>\n",
       "  </thead>\n",
       "  <tbody>\n",
       "    <tr>\n",
       "      <th>0</th>\n",
       "      <td>2018-03-05 00:00:00</td>\n",
       "      <td>127.104445</td>\n",
       "      <td>37.484585</td>\n",
       "      <td>서울특별시</td>\n",
       "      <td>0</td>\n",
       "      <td>22966</td>\n",
       "    </tr>\n",
       "    <tr>\n",
       "      <th>1</th>\n",
       "      <td>2018-03-05 00:00:00</td>\n",
       "      <td>127.115560</td>\n",
       "      <td>37.496255</td>\n",
       "      <td>서울특별시</td>\n",
       "      <td>0</td>\n",
       "      <td>28423</td>\n",
       "    </tr>\n",
       "    <tr>\n",
       "      <th>2</th>\n",
       "      <td>2018-03-05 00:00:00</td>\n",
       "      <td>127.084957</td>\n",
       "      <td>37.537818</td>\n",
       "      <td>서울특별시</td>\n",
       "      <td>0</td>\n",
       "      <td>45153</td>\n",
       "    </tr>\n",
       "    <tr>\n",
       "      <th>3</th>\n",
       "      <td>2018-03-05 00:00:01</td>\n",
       "      <td>127.057588</td>\n",
       "      <td>37.543923</td>\n",
       "      <td>서울특별시</td>\n",
       "      <td>0</td>\n",
       "      <td>47640</td>\n",
       "    </tr>\n",
       "    <tr>\n",
       "      <th>4</th>\n",
       "      <td>2018-03-05 00:00:01</td>\n",
       "      <td>127.087842</td>\n",
       "      <td>37.557823</td>\n",
       "      <td>서울특별시</td>\n",
       "      <td>0</td>\n",
       "      <td>53955</td>\n",
       "    </tr>\n",
       "  </tbody>\n",
       "</table>\n",
       "</div>"
      ],
      "text/plain": [
       "                 승차시각    승차위치_x좌표   승차위치_y좌표 승차위치_시도  time_label  loc_idx\n",
       "0 2018-03-05 00:00:00  127.104445  37.484585   서울특별시           0    22966\n",
       "1 2018-03-05 00:00:00  127.115560  37.496255   서울특별시           0    28423\n",
       "2 2018-03-05 00:00:00  127.084957  37.537818   서울특별시           0    45153\n",
       "3 2018-03-05 00:00:01  127.057588  37.543923   서울특별시           0    47640\n",
       "4 2018-03-05 00:00:01  127.087842  37.557823   서울특별시           0    53955"
      ]
     },
     "execution_count": 7,
     "metadata": {},
     "output_type": "execute_result"
    }
   ],
   "source": [
    "#모든 구역에 인덱스를 정해주기\n",
    "#시간이 오래 걸린다는 단점이 있음\n",
    "#x + (n / y)\n",
    "loc_df = temp_df\n",
    "def getSpaceIndex(x, y):\n",
    "    x_idx = int((num_floor(x, 3) - 126.764) / 0.001)\n",
    "    y_idx = int((num_floor(y, 3) - 37.429) / 0.001)\n",
    "    \n",
    "    return x_idx + (419 * y_idx)\n",
    "\n",
    "def num_floor(num, f=0):\n",
    "    f = 10 ** f\n",
    "    temp = math.floor(num * f);\n",
    "    return temp / f\n",
    "\n",
    "df2[\"loc_idx\"] = loc_df.apply(lambda row: getSpaceIndex(row.승차위치_x좌표, row.승차위치_y좌표), axis=1)\n",
    "df2.head()"
   ]
  },
  {
   "cell_type": "markdown",
   "metadata": {},
   "source": [
    "### 모든 구역에 키값 정해주기\n",
    "###### 이 방법은 시간이 오래걸림 그리고 많이 부족한 느낌이 듬 뭔가 새로운 방법이 필요함\n",
    "x_idx + (140 * y_idx) = 구역의 인덱스 <br>\n",
    "x + (n * y)\n",
    "##### 해독하기\n",
    "원래 값 : a <br>\n",
    "a % n = x <br>\n",
    "(a - x) / n = y\n",
    "\n",
    "------\n"
   ]
  },
  {
   "cell_type": "code",
   "execution_count": null,
   "metadata": {},
   "outputs": [],
   "source": [
    "df2 = df.groupby(['time_label', 'loc_idx'])\n",
    "df3 = pd.DataFrame(df2)\n",
    "df3.head()"
   ]
  },
  {
   "cell_type": "markdown",
   "metadata": {},
   "source": [
    "## 모델 학습하기\n",
    "----------\n",
    "### 시간"
   ]
  },
  {
   "cell_type": "code",
   "execution_count": 28,
   "metadata": {},
   "outputs": [],
   "source": [
    "df['승차시각'] = [str(d.date()).replace(\"-\", \"\") for d in df['승차시각']]\n",
    "# df2['승차_시간'] = [str(d.time()).replace(\":\", \"\") for d in df2['승차시각']]"
   ]
  },
  {
   "cell_type": "code",
   "execution_count": 29,
   "metadata": {},
   "outputs": [],
   "source": [
    "from sklearn.model_selection import train_test_split\n",
    "x = df[['승차시각', '승차위치_x좌표', '승차위치_y좌표', 'loc_idx']] #예측의 기반이 될 컬럼\n",
    "y = df['time_label'] #예측결과를 받을 컬럼\n",
    "x_train, x_test, y_train, y_test = train_test_split(x, y, test_size=0.2)"
   ]
  },
  {
   "cell_type": "code",
   "execution_count": null,
   "metadata": {},
   "outputs": [],
   "source": [
    "from sklearn.ensemble import RandomForestClassifier\n",
    "from sklearn import metrics\n",
    "#feature = 속성\n",
    "\n",
    "forest = RandomForestClassifier(n_estimators=100)\n",
    "forest.fit(x_train, y_train)\n",
    "\n",
    "y_pred = forest.predict(x_test) #예측한 결과 \n",
    "# y_pred\n",
    "\n",
    "print('정확도 : ', metrics.accuracy_score(y_test, y_pred))"
   ]
  }
 ],
 "metadata": {
  "kernelspec": {
   "display_name": "Python 3",
   "language": "python",
   "name": "python3"
  },
  "language_info": {
   "codemirror_mode": {
    "name": "ipython",
    "version": 3
   },
   "file_extension": ".py",
   "mimetype": "text/x-python",
   "name": "python",
   "nbconvert_exporter": "python",
   "pygments_lexer": "ipython3",
   "version": "3.7.1"
  }
 },
 "nbformat": 4,
 "nbformat_minor": 2
}

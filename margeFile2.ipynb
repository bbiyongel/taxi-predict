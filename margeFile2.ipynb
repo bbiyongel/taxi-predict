{
 "cells": [
  {
   "cell_type": "code",
   "execution_count": 1,
   "metadata": {},
   "outputs": [],
   "source": [
    "import numpy as np\n",
    "import pandas as pd\n",
    "import math\n",
    "import os"
   ]
  },
  {
   "cell_type": "code",
   "execution_count": 2,
   "metadata": {},
   "outputs": [],
   "source": [
    "path = \"/Users/joyumin/PycharmProjects/hadoop/ConvertResult\""
   ]
  },
  {
   "cell_type": "code",
   "execution_count": 3,
   "metadata": {},
   "outputs": [],
   "source": [
    "def getSpaceIndex(x, y):\n",
    "    x_idx = int((num_floor(x, 3) - 126.764) / 0.0035)\n",
    "    y_idx = int((num_floor(y, 3) - 37.429) / 0.00227)\n",
    "\n",
    "    return x_idx + (119 * y_idx)\n",
    "\n",
    "def num_floor(num, f=0):\n",
    "    f = 10 ** f\n",
    "    temp = math.floor(num * f);\n",
    "    return temp / f"
   ]
  },
  {
   "cell_type": "code",
   "execution_count": 4,
   "metadata": {},
   "outputs": [],
   "source": [
    "dirs = [d for d in os.listdir(path) if os.path.isdir(path + \"/\" + d)]"
   ]
  },
  {
   "cell_type": "code",
   "execution_count": 5,
   "metadata": {},
   "outputs": [],
   "source": [
    "def combineIntoPD(d):\n",
    "    filenames = [f for f in os.listdir(path + \"/\" + d)]\n",
    "    arr = []\n",
    "    print(len(dirs))\n",
    "    for f in filenames:\n",
    "        #기본 필터 (서울 특별시, 컬럼, NaN)\n",
    "        temp_df = pd.read_csv(path + \"/\" + d + \"/\" + f, encoding=\"euc-kr\").dropna(axis=0);\n",
    "        temp_df.columns = temp_df.columns.str.strip().str.lower().str.replace(' ', '_').str.replace('(', '_').str.replace(')', '')\n",
    "        temp_df.query(\"승차위치_x좌표 >  126.764278 and 승차위치_x좌표 < 127.183551 and 승차위치_y좌표 > 37.429010 and 승차위치_y좌표 < 37.701079\").filter([\"승차시각\", \"승차위치_x좌표\", \"승차위치_y좌표\"])\n",
    "        temp_df['승차시각'] = pd.to_datetime(temp_df['승차시각'])\n",
    "        \n",
    "        #시간 인덱스 추가\n",
    "        s = (temp_df.승차시각 - temp_df.승차시각.dt.floor('D')).dt.total_seconds() / 300\n",
    "        s = s.astype(int)\n",
    "        temp_df['time_label'] = s\n",
    "        \n",
    "        #공간 인덱스 추가\n",
    "        loc_df = temp_df\n",
    "        temp_df[\"loc_idx\"] = loc_df.apply(lambda row: getSpaceIndex(row.승차위치_x좌표, row.승차위치_y좌표), axis=1)\n",
    "        \n",
    "        #count추가\n",
    "        temp_df['count'] = temp_df.groupby(['time_label', 'loc_idx'])['loc_idx'].transform('count')\n",
    "        \n",
    "        #count_lange 추가\n",
    "        temp_df['count_lange'] = temp_df['count'].apply(lambda x: 0 if x > 0 and x <= 2 else 1 if x > 2 and x <= 5 else 2 if x > 5 and x <= 10 else 3 if x > 10 and x <= 20 else 4)\n",
    "        \n",
    "        arr.append(temp_df)\n",
    "    result = pd.concat(arr)\n",
    "    return result;\n",
    "        "
   ]
  },
  {
   "cell_type": "code",
   "execution_count": 74,
   "metadata": {},
   "outputs": [
    {
     "data": {
      "text/plain": [
       "0    false\n",
       "1     True\n",
       "2     True\n",
       "3    false\n",
       "4    false\n",
       "Name: 0, dtype: object"
      ]
     },
     "execution_count": 74,
     "metadata": {},
     "output_type": "execute_result"
    }
   ],
   "source": []
  },
  {
   "cell_type": "code",
   "execution_count": 6,
   "metadata": {},
   "outputs": [
    {
     "name": "stdout",
     "output_type": "stream",
     "text": [
      "8\n",
      "8\n",
      "8\n",
      "8\n",
      "8\n",
      "8\n",
      "8\n",
      "8\n",
      "<class 'pandas.core.frame.DataFrame'>\n",
      "Int64Index: 61666244 entries, 0 to 641951\n",
      "Data columns (total 21 columns):\n",
      "수집일시           object\n",
      "주행거리_m         int64\n",
      "영업거리_m         int64\n",
      "공차거리_m         int64\n",
      "영업시간_초         int64\n",
      "금액             int64\n",
      "승차시각           datetime64[ns]\n",
      "승차위치_x좌표       float64\n",
      "승차위치_y좌표       float64\n",
      "승차위치_시도        object\n",
      "승차위치_시군구       object\n",
      "승차위치_읍면동       object\n",
      "하차시각           object\n",
      "하차위치_x좌표       float64\n",
      "하차위치_y좌표       float64\n",
      "하차위치_시도        object\n",
      "하차위치_시군구       object\n",
      "time_label     int64\n",
      "loc_idx        int64\n",
      "count          int64\n",
      "count_lange    int64\n",
      "dtypes: datetime64[ns](1), float64(4), int64(9), object(7)\n",
      "memory usage: 10.1+ GB\n"
     ]
    }
   ],
   "source": [
    "result_csv = pd.concat([combineIntoPD(d) for d in dirs])\n",
    "result_csv.info()"
   ]
  },
  {
   "cell_type": "code",
   "execution_count": 3,
   "metadata": {},
   "outputs": [
    {
     "data": {
      "text/plain": [
       "3526"
      ]
     },
     "execution_count": 3,
     "metadata": {},
     "output_type": "execute_result"
    }
   ],
   "source": [
    "getSpaceIndex(127.027412, 37.497952) # 강남역"
   ]
  },
  {
   "cell_type": "code",
   "execution_count": 9,
   "metadata": {},
   "outputs": [
    {
     "data": {
      "text/plain": [
       "1    32006\n",
       "0    18257\n",
       "2    13963\n",
       "3      453\n",
       "Name: count_lange, dtype: int64"
      ]
     },
     "execution_count": 9,
     "metadata": {},
     "output_type": "execute_result"
    }
   ],
   "source": [
    "a['count_lange'].value_counts()"
   ]
  },
  {
   "cell_type": "code",
   "execution_count": 7,
   "metadata": {},
   "outputs": [],
   "source": [
    "result_csv.to_csv(\"/Users/joyumin/PycharmProjects/datas/combine2.csv\", mode='w', index=False, encoding=\"euc-kr\", chunksize=1000000)"
   ]
  }
 ],
 "metadata": {
  "kernelspec": {
   "display_name": "Python 3",
   "language": "python",
   "name": "python3"
  },
  "language_info": {
   "codemirror_mode": {
    "name": "ipython",
    "version": 3
   },
   "file_extension": ".py",
   "mimetype": "text/x-python",
   "name": "python",
   "nbconvert_exporter": "python",
   "pygments_lexer": "ipython3",
   "version": "3.7.1"
  }
 },
 "nbformat": 4,
 "nbformat_minor": 2
}
